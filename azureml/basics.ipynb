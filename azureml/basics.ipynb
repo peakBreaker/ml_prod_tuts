{
 "cells": [
  {
   "cell_type": "markdown",
   "metadata": {},
   "source": [
    "## Azure Machine Learning\n",
    "\n",
    "Create a workspace before running this notebook.\n",
    "\n",
    "In this notebook we will be building and deploying a simple model to predict domain of vacant positions in [NAV dataset](https://www.kaggle.com/kongharald/navledigestillinger) on Kaggle"
   ]
  },
  {
   "cell_type": "code",
   "execution_count": null,
   "metadata": {},
   "outputs": [],
   "source": [
    "! pip install kaggle &> /dev/null"
   ]
  },
  {
   "cell_type": "code",
   "execution_count": 6,
   "metadata": {},
   "outputs": [],
   "source": [
    "## Getting the datasets\\\n",
    "# https://www.kaggle.com/kongharald/navledigestillinger\n",
    "import kaggle\n",
    "\n",
    "kaggle.api.authenticate()\n",
    "\n",
    "kaggle.api.dataset_download_files('kongharald/navledigestillinger', path='./', unzip=True)"
   ]
  },
  {
   "cell_type": "code",
   "execution_count": 1,
   "metadata": {},
   "outputs": [],
   "source": [
    "## Read the data\n",
    "import pandas as pd\n",
    "df = pd.read_csv('nav_ledigestillinger.tsv', delimiter='\\t', nrows=5000)\n",
    "df.head()\n",
    "df = df.dropna(subset=['beskrivelse', 'hovedenhet_sektor'])\n",
    "df.to_csv('nav_ledigestillinger_minimal2.tsv', sep='\\t')"
   ]
  },
  {
   "cell_type": "markdown",
   "metadata": {},
   "source": [
    "## Azure ML\n",
    "\n",
    "First we will get reference to the needed resources and upload our dataset"
   ]
  },
  {
   "cell_type": "code",
   "execution_count": 16,
   "metadata": {},
   "outputs": [],
   "source": [
    "! pip install --upgrade azureml-sdk mlflow azureml-mlflow &> /dev/null"
   ]
  },
  {
   "cell_type": "code",
   "execution_count": null,
   "metadata": {},
   "outputs": [],
   "source": [
    "## Just a workaround on arch\n",
    "from dotnetcore2 import runtime\n",
    "runtime.version = (\"18\", \"10\", \"0\")\n",
    "runtime.dist = 'ubuntu'\n",
    "\n",
    "## Get workspace\n",
    "from azureml.core import Workspace, Datastore\n",
    "ws = Workspace.from_config()\n",
    "\n",
    "## Get a new datastore reference\n",
    "default_ds = ws.get_default_datastore()"
   ]
  },
  {
   "cell_type": "code",
   "execution_count": null,
   "metadata": {},
   "outputs": [],
   "source": [
    "## Push to azure ml\n",
    "default_ds.upload_files(files=['nav_ledigestillinger_minimal2.tsv'], # Upload the diabetes csv files in /data\n",
    "                       target_path='nav_dataset/', # Put it in a folder path in the datastore\n",
    "                       overwrite=True, # Replace existing files of the same name\n",
    "                       show_progress=True)"
   ]
  },
  {
   "cell_type": "code",
   "execution_count": 19,
   "metadata": {},
   "outputs": [
    {
     "data": {
      "text/html": [
       "<div>\n",
       "<style scoped>\n",
       "    .dataframe tbody tr th:only-of-type {\n",
       "        vertical-align: middle;\n",
       "    }\n",
       "\n",
       "    .dataframe tbody tr th {\n",
       "        vertical-align: top;\n",
       "    }\n",
       "\n",
       "    .dataframe thead th {\n",
       "        text-align: right;\n",
       "    }\n",
       "</style>\n",
       "<table border=\"1\" class=\"dataframe\">\n",
       "  <thead>\n",
       "    <tr style=\"text-align: right;\">\n",
       "      <th></th>\n",
       "      <th>Column1</th>\n",
       "      <th>stilling_id</th>\n",
       "      <th>tittel</th>\n",
       "      <th>antall_stillinger</th>\n",
       "      <th>yrkeskode_styrk08</th>\n",
       "      <th>yrkeskode_styrk08_navn</th>\n",
       "      <th>yrkeskode_hovedkategori_navn</th>\n",
       "      <th>regdato</th>\n",
       "      <th>siste_publisert_dato</th>\n",
       "      <th>kommunenr</th>\n",
       "      <th>...</th>\n",
       "      <th>aktiv_flagg</th>\n",
       "      <th>org_nace</th>\n",
       "      <th>hovedenhet</th>\n",
       "      <th>hovedenhet_navn</th>\n",
       "      <th>hovedenhet_sektor</th>\n",
       "      <th>tilleggskriterium</th>\n",
       "      <th>beskrivelse</th>\n",
       "      <th>sprak</th>\n",
       "      <th>kilde</th>\n",
       "      <th>nav_enhet_kode</th>\n",
       "    </tr>\n",
       "  </thead>\n",
       "  <tbody>\n",
       "    <tr>\n",
       "      <th>0</th>\n",
       "      <td>0</td>\n",
       "      <td>1894669</td>\n",
       "      <td>Senior Ingeniør Konstruksjonsteknikk</td>\n",
       "      <td>1</td>\n",
       "      <td>2142</td>\n",
       "      <td>Sivilingeniører (bygg og anlegg)</td>\n",
       "      <td>Ingeniør- og ikt-fag</td>\n",
       "      <td>2009-02-05</td>\n",
       "      <td>2009-12-31</td>\n",
       "      <td>301.0</td>\n",
       "      <td>...</td>\n",
       "      <td>1.0</td>\n",
       "      <td>74909.0</td>\n",
       "      <td>891697872.0</td>\n",
       "      <td>SEATOWER AS</td>\n",
       "      <td>Privat og offentlig næringsvirksomhet</td>\n",
       "      <td>Dagtid, Fast stilling, Heltid</td>\n",
       "      <td>Har du tung erfaring innen design av konstruks...</td>\n",
       "      <td>no</td>\n",
       "      <td>Reg av arb.giver på nav.no</td>\n",
       "      <td>334</td>\n",
       "    </tr>\n",
       "    <tr>\n",
       "      <th>1</th>\n",
       "      <td>2</td>\n",
       "      <td>2633246</td>\n",
       "      <td>Deltid og ekstrahjelp</td>\n",
       "      <td>2</td>\n",
       "      <td>5223</td>\n",
       "      <td>Butikkmedarbeidere</td>\n",
       "      <td>Butikk- og salgsarbeid</td>\n",
       "      <td>2011-07-13</td>\n",
       "      <td>2012-05-15</td>\n",
       "      <td>1106.0</td>\n",
       "      <td>...</td>\n",
       "      <td>0.0</td>\n",
       "      <td>47721.0</td>\n",
       "      <td>996406431.0</td>\n",
       "      <td>UKT HAUGESUND AS</td>\n",
       "      <td>Privat og offentlig næringsvirksomhet</td>\n",
       "      <td>Deltid, Fast stilling, Vakt</td>\n",
       "      <td>&lt;p&gt;Vi søker en deltidsansatt og en ekstrahjelp...</td>\n",
       "      <td>no</td>\n",
       "      <td>Reg av arb.giver på nav.no</td>\n",
       "      <td>1106</td>\n",
       "    </tr>\n",
       "    <tr>\n",
       "      <th>2</th>\n",
       "      <td>3</td>\n",
       "      <td>2690643</td>\n",
       "      <td>Fysioterapeut</td>\n",
       "      <td>1</td>\n",
       "      <td>2264</td>\n",
       "      <td>Fysioterapeuter</td>\n",
       "      <td>Helse, pleie og omsorg</td>\n",
       "      <td>2011-11-23</td>\n",
       "      <td>2011-12-23</td>\n",
       "      <td>301.0</td>\n",
       "      <td>...</td>\n",
       "      <td>1.0</td>\n",
       "      <td>86902.0</td>\n",
       "      <td>988131482.0</td>\n",
       "      <td>MARIA JOHANSSON</td>\n",
       "      <td>Privat og offentlig næringsvirksomhet</td>\n",
       "      <td>Dagtid, Deltid, Heltid, Vikar</td>\n",
       "      <td>&lt;html /&gt;</td>\n",
       "      <td>None</td>\n",
       "      <td>Reg av arb.giver på nav.no</td>\n",
       "      <td>316</td>\n",
       "    </tr>\n",
       "    <tr>\n",
       "      <th>3</th>\n",
       "      <td>4</td>\n",
       "      <td>2691938</td>\n",
       "      <td>gårdsarbeider/ dyrepasser</td>\n",
       "      <td>1</td>\n",
       "      <td>6121</td>\n",
       "      <td>Melke- og husdyrprodusenter</td>\n",
       "      <td>Jordbruk, skogbruk og fiske</td>\n",
       "      <td>2011-11-25</td>\n",
       "      <td>2011-12-01</td>\n",
       "      <td>822.0</td>\n",
       "      <td>...</td>\n",
       "      <td>0.0</td>\n",
       "      <td>1190.0</td>\n",
       "      <td>987202130.0</td>\n",
       "      <td>ANJA IREN MOLAND MIDTBØ</td>\n",
       "      <td>Privat og offentlig næringsvirksomhet</td>\n",
       "      <td>Dagtid, Deltid, Fast stilling, Heltid</td>\n",
       "      <td>&lt;html /&gt;</td>\n",
       "      <td>None</td>\n",
       "      <td>Reg av arb.giver på nav.no</td>\n",
       "      <td>822</td>\n",
       "    </tr>\n",
       "    <tr>\n",
       "      <th>4</th>\n",
       "      <td>5</td>\n",
       "      <td>2698137</td>\n",
       "      <td>Vikar - helg/deltid</td>\n",
       "      <td>1</td>\n",
       "      <td>8322</td>\n",
       "      <td>Bil-, drosje- og varebilførere</td>\n",
       "      <td>Reiseliv og transport</td>\n",
       "      <td>2011-12-09</td>\n",
       "      <td>2011-12-31</td>\n",
       "      <td>1504.0</td>\n",
       "      <td>...</td>\n",
       "      <td>1.0</td>\n",
       "      <td>49410.0</td>\n",
       "      <td>984635648.0</td>\n",
       "      <td>FRØYSAGARDEN V/HANS FREDRIK KLOKK</td>\n",
       "      <td>Privat og offentlig næringsvirksomhet</td>\n",
       "      <td>Deltid, Helg, Vikar</td>\n",
       "      <td>&lt;p&gt;Stillingen innebærer kjøring av varebil nat...</td>\n",
       "      <td>no</td>\n",
       "      <td>Reg av arb.giver på nav.no</td>\n",
       "      <td>1528</td>\n",
       "    </tr>\n",
       "  </tbody>\n",
       "</table>\n",
       "<p>5 rows × 28 columns</p>\n",
       "</div>"
      ],
      "text/plain": [
       "   Column1  stilling_id                                tittel  \\\n",
       "0        0      1894669  Senior Ingeniør Konstruksjonsteknikk   \n",
       "1        2      2633246                 Deltid og ekstrahjelp   \n",
       "2        3      2690643                         Fysioterapeut   \n",
       "3        4      2691938             gårdsarbeider/ dyrepasser   \n",
       "4        5      2698137                   Vikar - helg/deltid   \n",
       "\n",
       "   antall_stillinger  yrkeskode_styrk08            yrkeskode_styrk08_navn  \\\n",
       "0                  1               2142  Sivilingeniører (bygg og anlegg)   \n",
       "1                  2               5223                Butikkmedarbeidere   \n",
       "2                  1               2264                   Fysioterapeuter   \n",
       "3                  1               6121       Melke- og husdyrprodusenter   \n",
       "4                  1               8322    Bil-, drosje- og varebilførere   \n",
       "\n",
       "  yrkeskode_hovedkategori_navn    regdato siste_publisert_dato  kommunenr  \\\n",
       "0         Ingeniør- og ikt-fag 2009-02-05           2009-12-31      301.0   \n",
       "1       Butikk- og salgsarbeid 2011-07-13           2012-05-15     1106.0   \n",
       "2       Helse, pleie og omsorg 2011-11-23           2011-12-23      301.0   \n",
       "3  Jordbruk, skogbruk og fiske 2011-11-25           2011-12-01      822.0   \n",
       "4        Reiseliv og transport 2011-12-09           2011-12-31     1504.0   \n",
       "\n",
       "   ... aktiv_flagg  org_nace   hovedenhet                    hovedenhet_navn  \\\n",
       "0  ...         1.0   74909.0  891697872.0                        SEATOWER AS   \n",
       "1  ...         0.0   47721.0  996406431.0                   UKT HAUGESUND AS   \n",
       "2  ...         1.0   86902.0  988131482.0                    MARIA JOHANSSON   \n",
       "3  ...         0.0    1190.0  987202130.0            ANJA IREN MOLAND MIDTBØ   \n",
       "4  ...         1.0   49410.0  984635648.0  FRØYSAGARDEN V/HANS FREDRIK KLOKK   \n",
       "\n",
       "                       hovedenhet_sektor  \\\n",
       "0  Privat og offentlig næringsvirksomhet   \n",
       "1  Privat og offentlig næringsvirksomhet   \n",
       "2  Privat og offentlig næringsvirksomhet   \n",
       "3  Privat og offentlig næringsvirksomhet   \n",
       "4  Privat og offentlig næringsvirksomhet   \n",
       "\n",
       "                       tilleggskriterium  \\\n",
       "0          Dagtid, Fast stilling, Heltid   \n",
       "1            Deltid, Fast stilling, Vakt   \n",
       "2          Dagtid, Deltid, Heltid, Vikar   \n",
       "3  Dagtid, Deltid, Fast stilling, Heltid   \n",
       "4                    Deltid, Helg, Vikar   \n",
       "\n",
       "                                         beskrivelse sprak  \\\n",
       "0  Har du tung erfaring innen design av konstruks...    no   \n",
       "1  <p>Vi søker en deltidsansatt og en ekstrahjelp...    no   \n",
       "2                                           <html />  None   \n",
       "3                                           <html />  None   \n",
       "4  <p>Stillingen innebærer kjøring av varebil nat...    no   \n",
       "\n",
       "                        kilde  nav_enhet_kode  \n",
       "0  Reg av arb.giver på nav.no             334  \n",
       "1  Reg av arb.giver på nav.no            1106  \n",
       "2  Reg av arb.giver på nav.no             316  \n",
       "3  Reg av arb.giver på nav.no             822  \n",
       "4  Reg av arb.giver på nav.no            1528  \n",
       "\n",
       "[5 rows x 28 columns]"
      ]
     },
     "execution_count": 19,
     "metadata": {},
     "output_type": "execute_result"
    }
   ],
   "source": [
    "from azureml.core import Dataset\n",
    "tab_data_set = Dataset.Tabular.from_delimited_files(path=(default_ds, 'nav_dataset/nav_ledigestillinger_minimal2.tsv'), separator='\\t')\n",
    "\n",
    "# Display the first 5 rows as a Pandas dataframe\n",
    "tab_data_set.take(5).to_pandas_dataframe()"
   ]
  },
  {
   "cell_type": "code",
   "execution_count": 20,
   "metadata": {},
   "outputs": [],
   "source": [
    "tab_data_set = tab_data_set.register(workspace=ws, \n",
    "                                    name='NAV Dataset',\n",
    "                                    description='Vacant positions from NAV on Kaggle https://www.kaggle.com/kongharald/navledigestillinger/metadata',\n",
    "                                    tags = {'format':'TSV'},\n",
    "                                    create_new_version=True)"
   ]
  },
  {
   "cell_type": "markdown",
   "metadata": {},
   "source": [
    "### Programs for training, model handling and deployment\n",
    "\n",
    "The following cells will write programs to filesystem which will be run by our pipeline"
   ]
  },
  {
   "cell_type": "code",
   "execution_count": 2,
   "metadata": {},
   "outputs": [],
   "source": [
    "import os\n",
    "# Create a folder for the pipeline step files\n",
    "experiment_folder = 'nav_pipeline'\n",
    "os.makedirs(experiment_folder, exist_ok=True)"
   ]
  },
  {
   "cell_type": "code",
   "execution_count": 3,
   "metadata": {},
   "outputs": [
    {
     "name": "stdout",
     "output_type": "stream",
     "text": [
      "Overwriting nav_pipeline/train_nav.py\n"
     ]
    }
   ],
   "source": [
    "%%writefile $experiment_folder/train_nav.py\n",
    "# Import libraries\n",
    "from azureml.core import Run\n",
    "import argparse\n",
    "import pandas as pd\n",
    "import numpy as np\n",
    "import joblib\n",
    "from sklearn.model_selection import train_test_split\n",
    "from sklearn.tree import DecisionTreeClassifier\n",
    "from sklearn.metrics import roc_auc_score\n",
    "\n",
    "# Get parameters\n",
    "parser = argparse.ArgumentParser()\n",
    "parser.add_argument('--output_folder', type=str, dest='output_folder', default=\"nav_model\", help='output folder')\n",
    "args = parser.parse_args()\n",
    "output_folder = args.output_folder\n",
    "\n",
    "# Get the experiment run context\n",
    "run = Run.get_context()\n",
    "\n",
    "# load the diabetes data (passed as an input dataset)\n",
    "print(\"Loading Data...\")\n",
    "nav = run.input_datasets['nav_train'].to_pandas_dataframe()\n",
    "\n",
    "nav['beskrivelse_length'] = nav['beskrivelse'].str.len() \n",
    "# Separate features and labels\n",
    "X, y = nav[['beskrivelse_length']].values, nav['hovedenhet_sektor'].values\n",
    "\n",
    "# Split data into training set and test set\n",
    "X_train, X_test, y_train, y_test = train_test_split(X, y, test_size=0.30, random_state=0)\n",
    "\n",
    "# Train adecision tree model\n",
    "print('Training a decision tree model')\n",
    "model = DecisionTreeClassifier().fit(X_train, y_train)\n",
    "\n",
    "# calculate accuracy\n",
    "y_hat = model.predict(X_test)\n",
    "acc = np.average(y_hat == y_test)\n",
    "print('Accuracy:', acc)\n",
    "run.log('Accuracy', np.float(acc))\n",
    "\n",
    "# Save the trained model\n",
    "os.makedirs(output_folder, exist_ok=True)\n",
    "output_path = output_folder + \"/model.pkl\"\n",
    "joblib.dump(value=model, filename=output_path)\n",
    "\n",
    "run.complete()"
   ]
  },
  {
   "cell_type": "code",
   "execution_count": 4,
   "metadata": {},
   "outputs": [
    {
     "name": "stdout",
     "output_type": "stream",
     "text": [
      "Overwriting nav_pipeline/register_nav.py\n"
     ]
    }
   ],
   "source": [
    "%%writefile $experiment_folder/register_nav.py\n",
    "# Import libraries\n",
    "import argparse\n",
    "import joblib\n",
    "from azureml.core import Workspace, Model, Run\n",
    "\n",
    "# Get parameters\n",
    "parser = argparse.ArgumentParser()\n",
    "parser.add_argument('--model_folder', type=str, dest='model_folder', default=\"nav_model\", help='model location')\n",
    "args = parser.parse_args()\n",
    "model_folder = args.model_folder\n",
    "\n",
    "# Get the experiment run context\n",
    "run = Run.get_context()\n",
    "\n",
    "# load the model\n",
    "print(\"Loading model from \" + model_folder)\n",
    "model_file = model_folder + \"/model.pkl\"\n",
    "model = joblib.load(model_file)\n",
    "\n",
    "Model.register(workspace=run.experiment.workspace,\n",
    "               model_path = model_file,\n",
    "               model_name = 'nav_model',\n",
    "               tags={'Training context':'Pipeline'})\n",
    "\n",
    "run.complete()"
   ]
  },
  {
   "cell_type": "code",
   "execution_count": null,
   "metadata": {},
   "outputs": [],
   "source": [
    "from azureml.core.conda_dependencies import CondaDependencies\n",
    "folder_name = 'nav_service'\n",
    "\n",
    "# Create a folder for the web service files\n",
    "deploy_folder = experiment_folder+'/'+folder_name\n",
    "os.makedirs(deploy_folder, exist_ok=True)\n",
    "\n",
    "print(folder_name, 'folder created.')\n",
    "\n",
    "# Add the dependencies for our model (AzureML defaults is already included)\n",
    "myenv = CondaDependencies()\n",
    "myenv.add_conda_package(\"scikit-learn\")\n",
    "myenv.add_conda_package(\"pandas\")\n",
    "\n",
    "# Save the environment config as a .yml file\n",
    "env_file = deploy_folder + \"/nav_env.yml\"\n",
    "with open(env_file,\"w\") as f:\n",
    "    f.write(myenv.serialize_to_string())\n",
    "print(\"Saved dependency info in\", env_file)"
   ]
  },
  {
   "cell_type": "code",
   "execution_count": 6,
   "metadata": {},
   "outputs": [
    {
     "name": "stdout",
     "output_type": "stream",
     "text": [
      "Overwriting nav_pipeline/nav_service/score_nav.py\n"
     ]
    }
   ],
   "source": [
    "%%writefile $deploy_folder/score_nav.py\n",
    "import json\n",
    "import joblib\n",
    "import numpy as np\n",
    "from azureml.core.model import Model\n",
    "\n",
    "# Called when the service is loaded\n",
    "def init():\n",
    "    global model\n",
    "    # Get the path to the deployed model file and load it\n",
    "    model_path = Model.get_model_path('nav_model')\n",
    "    model = joblib.load(model_path)\n",
    "\n",
    "# Called when a request is received\n",
    "def run(raw_data):\n",
    "    # Get the input data as a numpy array\n",
    "    data = np.array(json.loads(raw_data)['data'])\n",
    "    # Get a prediction from the model\n",
    "    predictions = model.predict(data)\n",
    "    # Return the predictions as JSON\n",
    "    return str(predictions)"
   ]
  },
  {
   "cell_type": "code",
   "execution_count": 15,
   "metadata": {},
   "outputs": [
    {
     "name": "stdout",
     "output_type": "stream",
     "text": [
      "Overwriting nav_pipeline/nav_service/deploy_nav.py\n"
     ]
    }
   ],
   "source": [
    "%%writefile $deploy_folder/deploy_nav.py\n",
    "import os\n",
    "\n",
    "from azureml.core.webservice import AciWebservice\n",
    "from azureml.core.model import InferenceConfig\n",
    "from azureml.core.conda_dependencies import CondaDependencies \n",
    "from azureml.core import Workspace, Model, Run\n",
    "\n",
    "# Get the correct references to needed resources\n",
    "run = Run.get_context()\n",
    "ws = run.experiment.workspace\n",
    "model = ws.models['nav_model']\n",
    "\n",
    "# Configure the scoring environment\n",
    "inference_config = InferenceConfig(runtime= \"python\",\n",
    "                                   source_directory = os.path.dirname(os.path.realpath(__file__)),\n",
    "                                   entry_script=\"score_nav.py\",\n",
    "                                   conda_file=\"nav_env.yml\")\n",
    "\n",
    "deployment_config = AciWebservice.deploy_configuration(cpu_cores = 1, memory_gb = 1)\n",
    "\n",
    "service_name = \"nav-service\"\n",
    "\n",
    "service = Model.deploy(ws, service_name, [model], inference_config, deployment_config, overwrite=True)\n",
    "\n",
    "service.wait_for_deployment(True)\n",
    "print(service.state)"
   ]
  },
  {
   "cell_type": "code",
   "execution_count": 16,
   "metadata": {},
   "outputs": [
    {
     "name": "stdout",
     "output_type": "stream",
     "text": [
      "\u001b[01;34m./nav_pipeline\u001b[00m\r\n",
      "|-- \u001b[01;34mnav_service\u001b[00m\r\n",
      "|   |-- deploy_nav.py\r\n",
      "|   |-- nav_env.yml\r\n",
      "|   `-- score_nav.py\r\n",
      "|-- register_nav.py\r\n",
      "`-- train_nav.py\r\n",
      "\r\n",
      "1 directory, 5 files\r\n"
     ]
    }
   ],
   "source": [
    "! tree ./nav_pipeline"
   ]
  },
  {
   "cell_type": "markdown",
   "metadata": {},
   "source": [
    "## Computation\n",
    "\n",
    "Select a computation cluster to run the experiment"
   ]
  },
  {
   "cell_type": "code",
   "execution_count": 17,
   "metadata": {},
   "outputs": [
    {
     "name": "stdout",
     "output_type": "stream",
     "text": [
      "Found existing cluster, use it.\n"
     ]
    }
   ],
   "source": [
    "from azureml.core.compute import ComputeTarget, AmlCompute\n",
    "from azureml.core.compute_target import ComputeTargetException\n",
    "\n",
    "cluster_name = \"ml-basic-clst1\"\n",
    "\n",
    "try:\n",
    "    # Check for existing compute target\n",
    "    pipeline_cluster = ComputeTarget(workspace=ws, name=cluster_name)\n",
    "    print('Found existing cluster, use it.')\n",
    "except ComputeTargetException:\n",
    "    # If it doesn't already exist, create it\n",
    "    try:\n",
    "        compute_config = AmlCompute.provisioning_configuration(vm_size='STANDARD_DS11_V2', max_nodes=2)\n",
    "        pipeline_cluster = ComputeTarget.create(ws, cluster_name, compute_config)\n",
    "        pipeline_cluster.wait_for_completion(show_output=True)\n",
    "    except Exception as ex:\n",
    "        print(ex)\n",
    "    "
   ]
  },
  {
   "cell_type": "markdown",
   "metadata": {},
   "source": [
    "## Run configuration\n",
    "\n",
    "Dependencies etc"
   ]
  },
  {
   "cell_type": "code",
   "execution_count": 18,
   "metadata": {},
   "outputs": [
    {
     "name": "stdout",
     "output_type": "stream",
     "text": [
      "Run configuration created.\n"
     ]
    }
   ],
   "source": [
    "from azureml.core import Environment\n",
    "from azureml.core.conda_dependencies import CondaDependencies\n",
    "from azureml.core.runconfig import RunConfiguration\n",
    "\n",
    "# Create a Python environment for the experiment\n",
    "nav_env = Environment(\"nav-pipeline-env\")\n",
    "nav_env.python.user_managed_dependencies = False # Let Azure ML manage dependencies\n",
    "nav_env.docker.enabled = True # Use a docker container\n",
    "\n",
    "# Create a set of package dependencies\n",
    "nav_packages = CondaDependencies.create(conda_packages=['scikit-learn','pandas'],\n",
    "                                             pip_packages=['azureml-defaults','azureml-dataprep[pandas]'])\n",
    "\n",
    "# Add the dependencies to the environment\n",
    "nav_env.python.conda_dependencies = nav_packages\n",
    "\n",
    "# Register the environment (just in case you want to use it again)\n",
    "nav_env.register(workspace=ws)\n",
    "registered_env = Environment.get(ws, 'nav-pipeline-env')\n",
    "\n",
    "# Create a new runconfig object for the pipeline\n",
    "pipeline_run_config = RunConfiguration()\n",
    "\n",
    "# Use the compute you created above. \n",
    "pipeline_run_config.target = pipeline_cluster\n",
    "#pipeline_run_config.target = 'local'\n",
    "\n",
    "# Assign the environment to the run configuration\n",
    "pipeline_run_config.environment = registered_env\n",
    "\n",
    "print (\"Run configuration created.\")"
   ]
  },
  {
   "cell_type": "markdown",
   "metadata": {},
   "source": [
    "## Define the pipeline"
   ]
  },
  {
   "cell_type": "code",
   "execution_count": 19,
   "metadata": {},
   "outputs": [
    {
     "name": "stdout",
     "output_type": "stream",
     "text": [
      "Pipeline steps defined\n"
     ]
    }
   ],
   "source": [
    "from azureml.pipeline.core import PipelineData\n",
    "from azureml.pipeline.steps import PythonScriptStep, EstimatorStep\n",
    "from azureml.train.estimator import Estimator\n",
    "\n",
    "# Get the training dataset\n",
    "nav_ds = ws.datasets.get(\"nav dataset\")\n",
    "\n",
    "# Create a PipelineData (temporary Data Reference) for the model folder\n",
    "model_folder = PipelineData(\"model_folder\", datastore=ws.get_default_datastore())\n",
    "\n",
    "estimator = Estimator(source_directory=experiment_folder,\n",
    "                        compute_target = pipeline_cluster,\n",
    "                        environment_definition=pipeline_run_config.environment,\n",
    "                        entry_script='train_nav.py')\n",
    "\n",
    "# Step 1, run the estimator to train the model\n",
    "train_step = EstimatorStep(name = \"Train Model\",\n",
    "                           estimator=estimator, \n",
    "                           estimator_entry_script_arguments=['--output_folder', model_folder],\n",
    "                           inputs=[nav_ds.as_named_input('nav_train')],\n",
    "                           outputs=[model_folder],\n",
    "                           compute_target = pipeline_cluster,\n",
    "                           allow_reuse = True)\n",
    "\n",
    "# Step 2, run the model registration script\n",
    "register_step = PythonScriptStep(name = \"Register Model\",\n",
    "                                source_directory = experiment_folder,\n",
    "                                script_name = \"register_nav.py\",\n",
    "                                arguments = ['--model_folder', model_folder],\n",
    "                                inputs=[model_folder],\n",
    "                                compute_target = pipeline_cluster,\n",
    "                                runconfig = pipeline_run_config,\n",
    "                                allow_reuse = True)\n",
    "\n",
    "# Step 3, run the model deployment script\n",
    "deploy_step = PythonScriptStep(name = \"Deploy Model\",\n",
    "                                source_directory = deploy_folder,\n",
    "                                script_name = \"deploy_nav.py\",\n",
    "                                arguments = [],\n",
    "                                compute_target = pipeline_cluster,\n",
    "                                runconfig = pipeline_run_config,\n",
    "                                allow_reuse = True)\n",
    "\n",
    "print(\"Pipeline steps defined\")"
   ]
  },
  {
   "cell_type": "markdown",
   "metadata": {},
   "source": [
    "## Run the pipeline"
   ]
  },
  {
   "cell_type": "code",
   "execution_count": null,
   "metadata": {},
   "outputs": [],
   "source": [
    "from azureml.core import Experiment\n",
    "from azureml.pipeline.core import Pipeline, StepSequence\n",
    "\n",
    "# Construct the pipeline\n",
    "pipeline_steps = StepSequence(steps=[train_step, register_step, deploy_step])\n",
    "pipeline = Pipeline(workspace = ws, steps=pipeline_steps)\n",
    "print(\"Pipeline is built.\")\n",
    "\n",
    "# Create an experiment and run the pipeline\n",
    "experiment = Experiment(workspace = ws, name = 'nav-training-pipeline')\n",
    "pipeline_run = experiment.submit(pipeline, regenerate_outputs=True)\n",
    "print(\"Pipeline submitted for execution.\")\n",
    "pipeline_run.wait_for_completion()"
   ]
  },
  {
   "cell_type": "markdown",
   "metadata": {},
   "source": [
    "## Run a prediction\n",
    "\n",
    "Use the REST POST interface"
   ]
  },
  {
   "cell_type": "code",
   "execution_count": 70,
   "metadata": {},
   "outputs": [],
   "source": [
    "service_name = \"nav-service\"\n",
    "endpoint = ws.webservices[service_name].scoring_uri"
   ]
  },
  {
   "cell_type": "code",
   "execution_count": 71,
   "metadata": {},
   "outputs": [
    {
     "data": {
      "text/plain": [
       "\"['Kommunal forvaltning' 'Privat og offentlig næringsvirksomhet']\""
      ]
     },
     "execution_count": 71,
     "metadata": {},
     "output_type": "execute_result"
    }
   ],
   "source": [
    "import requests\n",
    "import json\n",
    "\n",
    "x_new = [[222],[555]]\n",
    "\n",
    "# Convert the array to a serializable list in a JSON document\n",
    "input_json = json.dumps({\"data\": x_new})\n",
    "\n",
    "# Set the content type\n",
    "headers = { 'Content-Type':'application/json' }\n",
    "\n",
    "predictions = requests.post(endpoint, input_json, headers = headers)\n",
    "predicted_classes = predictions.json()\n",
    "predicted_classes"
   ]
  }
 ],
 "metadata": {
  "kernelspec": {
   "display_name": "Python 3",
   "language": "python",
   "name": "python3"
  },
  "language_info": {
   "codemirror_mode": {
    "name": "ipython",
    "version": 3
   },
   "file_extension": ".py",
   "mimetype": "text/x-python",
   "name": "python",
   "nbconvert_exporter": "python",
   "pygments_lexer": "ipython3",
   "version": "3.8.6"
  }
 },
 "nbformat": 4,
 "nbformat_minor": 4
}
